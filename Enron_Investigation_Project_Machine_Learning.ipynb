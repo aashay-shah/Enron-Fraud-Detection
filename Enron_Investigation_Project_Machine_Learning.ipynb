{
  "nbformat": 4,
  "nbformat_minor": 0,
  "metadata": {
    "colab": {
      "name": "Enron Investigation Project: Machine Learning.ipynb",
      "provenance": [],
      "toc_visible": true
    },
    "kernelspec": {
      "name": "python3",
      "display_name": "Python 3"
    }
  },
  "cells": [
    {
      "cell_type": "markdown",
      "metadata": {
        "id": "b3aUEnWdHlAK"
      },
      "source": [
        "# **Enron Investigation Project**\n",
        "### Enron Corporation, an energy, commodities, and services company infamously went bankrupt in December 2001 as a result of fraudulent business practices.\n",
        "### The Federal Energy Regulatory Commission released more 1.6 million emails sent and received by Enron executives in the years from 2000–2002. \n",
        "### We use the metadata of these mails which contains information such as number received by and sent from each individual, and financial information including salary and stock options to identify the POI (Person of Interest). The persons of interest are the individuals who were eventually tried for fraud or criminal activity in the Enron investigation.\n",
        "### The ultimate objective of investigating the Enron dataset is to be able to predict cases of fraud or unsafe business practices far in advance, so those responsible can be punished, and those who are innocent are not harmed."
      ]
    },
    {
      "cell_type": "code",
      "metadata": {
        "id": "ZPDOPtmnWVDu"
      },
      "source": [
        "# Import libraries\n",
        "import numpy as np\n",
        "import pandas as pd\n",
        "import matplotlib.pyplot as plt\n",
        "import seaborn as sns\n",
        "import pickle\n",
        "\n",
        "original = \"final_project_dataset.pkl\"\n",
        "destination = \"final_project_dataset_unix.pkl\"\n",
        "\n",
        "content = ''\n",
        "outsize = 0\n",
        "with open(original, 'rb') as infile:\n",
        "    content = infile.read()\n",
        "with open(destination, 'wb') as output:\n",
        "    for line in content.splitlines():\n",
        "        outsize += len(line) + 1\n",
        "        output.write(line + str.encode('\\n'))\n",
        "        \n",
        "data_dict = pickle.load(open(\"final_project_dataset_unix.pkl\", \"rb\"))\n",
        "\n",
        "payment_data = ['salary', 'bonus', 'long_term_incentive', 'deferred_income', 'deferral_payments', 'loan_advances', 'other', 'expenses', 'director_fees', 'total_payments']\n",
        "stock_data = ['exercised_stock_options', 'restricted_stock', 'restricted_stock_deferred', 'total_stock_value']\n",
        "email_data = ['to_messages', 'from_messages', 'from_poi_to_this_person', 'from_this_person_to_poi', 'shared_receipt_with_poi']\n",
        "features_list = ['poi'] + payment_data + stock_data + email_data"
      ],
      "execution_count": 1,
      "outputs": []
    },
    {
      "cell_type": "markdown",
      "metadata": {
        "id": "FFLpZePJLm7I"
      },
      "source": [
        "## **Outlier Investigation and Data Cleaning**\n",
        "### The first step is to load in the all the data and scrutinize it for any errors that need to be corrected and outliers that should be removed. The data is provided in the form of a Python dictionary with each individual as a key and the information about the individual as values, and I will convert it to a pandas dataframe for easier data manipulation."
      ]
    },
    {
      "cell_type": "code",
      "metadata": {
        "id": "c2ywB6PfX3I5",
        "colab": {
          "base_uri": "https://localhost:8080/",
          "height": 309
        },
        "outputId": "2f5cdc7d-cf8d-4c7a-f554-7b1182e1efac"
      },
      "source": [
        "# Dataset\n",
        "df = pd.DataFrame.from_dict(data_dict, orient='index')\n",
        "df = df.sort_index(axis=0)\n",
        "df.drop(['email_address'], axis=1, inplace=True)\n",
        "df = df[['poi', 'salary', 'bonus', 'long_term_incentive', 'deferred_income', 'deferral_payments', 'loan_advances', 'other', 'expenses', 'director_fees', 'total_payments', 'exercised_stock_options', 'restricted_stock', 'restricted_stock_deferred', 'total_stock_value', 'to_messages', 'from_messages', 'from_poi_to_this_person', 'from_this_person_to_poi', 'shared_receipt_with_poi']]\n",
        "df.head()"
      ],
      "execution_count": 2,
      "outputs": [
        {
          "output_type": "execute_result",
          "data": {
            "text/html": [
              "<div>\n",
              "<style scoped>\n",
              "    .dataframe tbody tr th:only-of-type {\n",
              "        vertical-align: middle;\n",
              "    }\n",
              "\n",
              "    .dataframe tbody tr th {\n",
              "        vertical-align: top;\n",
              "    }\n",
              "\n",
              "    .dataframe thead th {\n",
              "        text-align: right;\n",
              "    }\n",
              "</style>\n",
              "<table border=\"1\" class=\"dataframe\">\n",
              "  <thead>\n",
              "    <tr style=\"text-align: right;\">\n",
              "      <th></th>\n",
              "      <th>poi</th>\n",
              "      <th>salary</th>\n",
              "      <th>bonus</th>\n",
              "      <th>long_term_incentive</th>\n",
              "      <th>deferred_income</th>\n",
              "      <th>deferral_payments</th>\n",
              "      <th>loan_advances</th>\n",
              "      <th>other</th>\n",
              "      <th>expenses</th>\n",
              "      <th>director_fees</th>\n",
              "      <th>total_payments</th>\n",
              "      <th>exercised_stock_options</th>\n",
              "      <th>restricted_stock</th>\n",
              "      <th>restricted_stock_deferred</th>\n",
              "      <th>total_stock_value</th>\n",
              "      <th>to_messages</th>\n",
              "      <th>from_messages</th>\n",
              "      <th>from_poi_to_this_person</th>\n",
              "      <th>from_this_person_to_poi</th>\n",
              "      <th>shared_receipt_with_poi</th>\n",
              "    </tr>\n",
              "  </thead>\n",
              "  <tbody>\n",
              "    <tr>\n",
              "      <th>ALLEN PHILLIP K</th>\n",
              "      <td>False</td>\n",
              "      <td>201955</td>\n",
              "      <td>4175000</td>\n",
              "      <td>304805</td>\n",
              "      <td>-3081055</td>\n",
              "      <td>2869717</td>\n",
              "      <td>NaN</td>\n",
              "      <td>152</td>\n",
              "      <td>13868</td>\n",
              "      <td>NaN</td>\n",
              "      <td>4484442</td>\n",
              "      <td>1729541</td>\n",
              "      <td>126027</td>\n",
              "      <td>-126027</td>\n",
              "      <td>1729541</td>\n",
              "      <td>2902</td>\n",
              "      <td>2195</td>\n",
              "      <td>47</td>\n",
              "      <td>65</td>\n",
              "      <td>1407</td>\n",
              "    </tr>\n",
              "    <tr>\n",
              "      <th>BADUM JAMES P</th>\n",
              "      <td>False</td>\n",
              "      <td>NaN</td>\n",
              "      <td>NaN</td>\n",
              "      <td>NaN</td>\n",
              "      <td>NaN</td>\n",
              "      <td>178980</td>\n",
              "      <td>NaN</td>\n",
              "      <td>NaN</td>\n",
              "      <td>3486</td>\n",
              "      <td>NaN</td>\n",
              "      <td>182466</td>\n",
              "      <td>257817</td>\n",
              "      <td>NaN</td>\n",
              "      <td>NaN</td>\n",
              "      <td>257817</td>\n",
              "      <td>NaN</td>\n",
              "      <td>NaN</td>\n",
              "      <td>NaN</td>\n",
              "      <td>NaN</td>\n",
              "      <td>NaN</td>\n",
              "    </tr>\n",
              "    <tr>\n",
              "      <th>BANNANTINE JAMES M</th>\n",
              "      <td>False</td>\n",
              "      <td>477</td>\n",
              "      <td>NaN</td>\n",
              "      <td>NaN</td>\n",
              "      <td>-5104</td>\n",
              "      <td>NaN</td>\n",
              "      <td>NaN</td>\n",
              "      <td>864523</td>\n",
              "      <td>56301</td>\n",
              "      <td>NaN</td>\n",
              "      <td>916197</td>\n",
              "      <td>4046157</td>\n",
              "      <td>1757552</td>\n",
              "      <td>-560222</td>\n",
              "      <td>5243487</td>\n",
              "      <td>566</td>\n",
              "      <td>29</td>\n",
              "      <td>39</td>\n",
              "      <td>0</td>\n",
              "      <td>465</td>\n",
              "    </tr>\n",
              "    <tr>\n",
              "      <th>BAXTER JOHN C</th>\n",
              "      <td>False</td>\n",
              "      <td>267102</td>\n",
              "      <td>1200000</td>\n",
              "      <td>1586055</td>\n",
              "      <td>-1386055</td>\n",
              "      <td>1295738</td>\n",
              "      <td>NaN</td>\n",
              "      <td>2660303</td>\n",
              "      <td>11200</td>\n",
              "      <td>NaN</td>\n",
              "      <td>5634343</td>\n",
              "      <td>6680544</td>\n",
              "      <td>3942714</td>\n",
              "      <td>NaN</td>\n",
              "      <td>10623258</td>\n",
              "      <td>NaN</td>\n",
              "      <td>NaN</td>\n",
              "      <td>NaN</td>\n",
              "      <td>NaN</td>\n",
              "      <td>NaN</td>\n",
              "    </tr>\n",
              "    <tr>\n",
              "      <th>BAY FRANKLIN R</th>\n",
              "      <td>False</td>\n",
              "      <td>239671</td>\n",
              "      <td>400000</td>\n",
              "      <td>NaN</td>\n",
              "      <td>-201641</td>\n",
              "      <td>260455</td>\n",
              "      <td>NaN</td>\n",
              "      <td>69</td>\n",
              "      <td>129142</td>\n",
              "      <td>NaN</td>\n",
              "      <td>827696</td>\n",
              "      <td>NaN</td>\n",
              "      <td>145796</td>\n",
              "      <td>-82782</td>\n",
              "      <td>63014</td>\n",
              "      <td>NaN</td>\n",
              "      <td>NaN</td>\n",
              "      <td>NaN</td>\n",
              "      <td>NaN</td>\n",
              "      <td>NaN</td>\n",
              "    </tr>\n",
              "  </tbody>\n",
              "</table>\n",
              "</div>"
            ],
            "text/plain": [
              "                      poi  ... shared_receipt_with_poi\n",
              "ALLEN PHILLIP K     False  ...                    1407\n",
              "BADUM JAMES P       False  ...                     NaN\n",
              "BANNANTINE JAMES M  False  ...                     465\n",
              "BAXTER JOHN C       False  ...                     NaN\n",
              "BAY FRANKLIN R      False  ...                     NaN\n",
              "\n",
              "[5 rows x 20 columns]"
            ]
          },
          "metadata": {
            "tags": []
          },
          "execution_count": 2
        }
      ]
    },
    {
      "cell_type": "code",
      "metadata": {
        "colab": {
          "base_uri": "https://localhost:8080/"
        },
        "id": "8RVRS9Ieddm1",
        "outputId": "4b9789a2-373d-417c-fac1-875084c12ff3"
      },
      "source": [
        "# Dataframe information\n",
        "df.info()"
      ],
      "execution_count": 3,
      "outputs": [
        {
          "output_type": "stream",
          "text": [
            "<class 'pandas.core.frame.DataFrame'>\n",
            "Index: 146 entries, ALLEN PHILLIP K to YEAP SOON\n",
            "Data columns (total 20 columns):\n",
            " #   Column                     Non-Null Count  Dtype \n",
            "---  ------                     --------------  ----- \n",
            " 0   poi                        146 non-null    bool  \n",
            " 1   salary                     146 non-null    object\n",
            " 2   bonus                      146 non-null    object\n",
            " 3   long_term_incentive        146 non-null    object\n",
            " 4   deferred_income            146 non-null    object\n",
            " 5   deferral_payments          146 non-null    object\n",
            " 6   loan_advances              146 non-null    object\n",
            " 7   other                      146 non-null    object\n",
            " 8   expenses                   146 non-null    object\n",
            " 9   director_fees              146 non-null    object\n",
            " 10  total_payments             146 non-null    object\n",
            " 11  exercised_stock_options    146 non-null    object\n",
            " 12  restricted_stock           146 non-null    object\n",
            " 13  restricted_stock_deferred  146 non-null    object\n",
            " 14  total_stock_value          146 non-null    object\n",
            " 15  to_messages                146 non-null    object\n",
            " 16  from_messages              146 non-null    object\n",
            " 17  from_poi_to_this_person    146 non-null    object\n",
            " 18  from_this_person_to_poi    146 non-null    object\n",
            " 19  shared_receipt_with_poi    146 non-null    object\n",
            "dtypes: bool(1), object(19)\n",
            "memory usage: 23.0+ KB\n"
          ],
          "name": "stdout"
        }
      ]
    },
    {
      "cell_type": "code",
      "metadata": {
        "colab": {
          "base_uri": "https://localhost:8080/"
        },
        "id": "khWX3h4uPvFD",
        "outputId": "55a88422-0eeb-4ab4-b256-731f2ea6a304"
      },
      "source": [
        "# Convert object datatype to float datatype\n",
        "for i in df.columns:\n",
        "  if df[i].dtypes == 'object':\n",
        "    df[i] = pd.to_numeric(df[i],errors='coerce')\n",
        "df.info()"
      ],
      "execution_count": 4,
      "outputs": [
        {
          "output_type": "stream",
          "text": [
            "<class 'pandas.core.frame.DataFrame'>\n",
            "Index: 146 entries, ALLEN PHILLIP K to YEAP SOON\n",
            "Data columns (total 20 columns):\n",
            " #   Column                     Non-Null Count  Dtype  \n",
            "---  ------                     --------------  -----  \n",
            " 0   poi                        146 non-null    bool   \n",
            " 1   salary                     95 non-null     float64\n",
            " 2   bonus                      82 non-null     float64\n",
            " 3   long_term_incentive        66 non-null     float64\n",
            " 4   deferred_income            49 non-null     float64\n",
            " 5   deferral_payments          39 non-null     float64\n",
            " 6   loan_advances              4 non-null      float64\n",
            " 7   other                      93 non-null     float64\n",
            " 8   expenses                   95 non-null     float64\n",
            " 9   director_fees              17 non-null     float64\n",
            " 10  total_payments             125 non-null    float64\n",
            " 11  exercised_stock_options    102 non-null    float64\n",
            " 12  restricted_stock           110 non-null    float64\n",
            " 13  restricted_stock_deferred  18 non-null     float64\n",
            " 14  total_stock_value          126 non-null    float64\n",
            " 15  to_messages                86 non-null     float64\n",
            " 16  from_messages              86 non-null     float64\n",
            " 17  from_poi_to_this_person    86 non-null     float64\n",
            " 18  from_this_person_to_poi    86 non-null     float64\n",
            " 19  shared_receipt_with_poi    86 non-null     float64\n",
            "dtypes: bool(1), float64(19)\n",
            "memory usage: 23.0+ KB\n"
          ],
          "name": "stdout"
        }
      ]
    },
    {
      "cell_type": "code",
      "metadata": {
        "id": "dn-lO_RCkBCH",
        "colab": {
          "base_uri": "https://localhost:8080/",
          "height": 317
        },
        "outputId": "40b09d7d-9b65-4557-d3b7-a21a14840e44"
      },
      "source": [
        "# Dataframe statistics\n",
        "df.describe()"
      ],
      "execution_count": 5,
      "outputs": [
        {
          "output_type": "execute_result",
          "data": {
            "text/html": [
              "<div>\n",
              "<style scoped>\n",
              "    .dataframe tbody tr th:only-of-type {\n",
              "        vertical-align: middle;\n",
              "    }\n",
              "\n",
              "    .dataframe tbody tr th {\n",
              "        vertical-align: top;\n",
              "    }\n",
              "\n",
              "    .dataframe thead th {\n",
              "        text-align: right;\n",
              "    }\n",
              "</style>\n",
              "<table border=\"1\" class=\"dataframe\">\n",
              "  <thead>\n",
              "    <tr style=\"text-align: right;\">\n",
              "      <th></th>\n",
              "      <th>salary</th>\n",
              "      <th>bonus</th>\n",
              "      <th>long_term_incentive</th>\n",
              "      <th>deferred_income</th>\n",
              "      <th>deferral_payments</th>\n",
              "      <th>loan_advances</th>\n",
              "      <th>other</th>\n",
              "      <th>expenses</th>\n",
              "      <th>director_fees</th>\n",
              "      <th>total_payments</th>\n",
              "      <th>exercised_stock_options</th>\n",
              "      <th>restricted_stock</th>\n",
              "      <th>restricted_stock_deferred</th>\n",
              "      <th>total_stock_value</th>\n",
              "      <th>to_messages</th>\n",
              "      <th>from_messages</th>\n",
              "      <th>from_poi_to_this_person</th>\n",
              "      <th>from_this_person_to_poi</th>\n",
              "      <th>shared_receipt_with_poi</th>\n",
              "    </tr>\n",
              "  </thead>\n",
              "  <tbody>\n",
              "    <tr>\n",
              "      <th>count</th>\n",
              "      <td>9.500000e+01</td>\n",
              "      <td>8.200000e+01</td>\n",
              "      <td>6.600000e+01</td>\n",
              "      <td>4.900000e+01</td>\n",
              "      <td>3.900000e+01</td>\n",
              "      <td>4.000000e+00</td>\n",
              "      <td>9.300000e+01</td>\n",
              "      <td>9.500000e+01</td>\n",
              "      <td>1.700000e+01</td>\n",
              "      <td>1.250000e+02</td>\n",
              "      <td>1.020000e+02</td>\n",
              "      <td>1.100000e+02</td>\n",
              "      <td>1.800000e+01</td>\n",
              "      <td>1.260000e+02</td>\n",
              "      <td>86.000000</td>\n",
              "      <td>86.000000</td>\n",
              "      <td>86.000000</td>\n",
              "      <td>86.000000</td>\n",
              "      <td>86.000000</td>\n",
              "    </tr>\n",
              "    <tr>\n",
              "      <th>mean</th>\n",
              "      <td>5.621943e+05</td>\n",
              "      <td>2.374235e+06</td>\n",
              "      <td>1.470361e+06</td>\n",
              "      <td>-1.140475e+06</td>\n",
              "      <td>1.642674e+06</td>\n",
              "      <td>4.196250e+07</td>\n",
              "      <td>9.190650e+05</td>\n",
              "      <td>1.087289e+05</td>\n",
              "      <td>1.668049e+05</td>\n",
              "      <td>5.081526e+06</td>\n",
              "      <td>5.987054e+06</td>\n",
              "      <td>2.321741e+06</td>\n",
              "      <td>1.664106e+05</td>\n",
              "      <td>6.773957e+06</td>\n",
              "      <td>2073.860465</td>\n",
              "      <td>608.790698</td>\n",
              "      <td>64.895349</td>\n",
              "      <td>41.232558</td>\n",
              "      <td>1176.465116</td>\n",
              "    </tr>\n",
              "    <tr>\n",
              "      <th>std</th>\n",
              "      <td>2.716369e+06</td>\n",
              "      <td>1.071333e+07</td>\n",
              "      <td>5.942759e+06</td>\n",
              "      <td>4.025406e+06</td>\n",
              "      <td>5.161930e+06</td>\n",
              "      <td>4.708321e+07</td>\n",
              "      <td>4.589253e+06</td>\n",
              "      <td>5.335348e+05</td>\n",
              "      <td>3.198914e+05</td>\n",
              "      <td>2.906172e+07</td>\n",
              "      <td>3.106201e+07</td>\n",
              "      <td>1.251828e+07</td>\n",
              "      <td>4.201494e+06</td>\n",
              "      <td>3.895777e+07</td>\n",
              "      <td>2582.700981</td>\n",
              "      <td>1841.033949</td>\n",
              "      <td>86.979244</td>\n",
              "      <td>100.073111</td>\n",
              "      <td>1178.317641</td>\n",
              "    </tr>\n",
              "    <tr>\n",
              "      <th>min</th>\n",
              "      <td>4.770000e+02</td>\n",
              "      <td>7.000000e+04</td>\n",
              "      <td>6.922300e+04</td>\n",
              "      <td>-2.799289e+07</td>\n",
              "      <td>-1.025000e+05</td>\n",
              "      <td>4.000000e+05</td>\n",
              "      <td>2.000000e+00</td>\n",
              "      <td>1.480000e+02</td>\n",
              "      <td>3.285000e+03</td>\n",
              "      <td>1.480000e+02</td>\n",
              "      <td>3.285000e+03</td>\n",
              "      <td>-2.604490e+06</td>\n",
              "      <td>-7.576788e+06</td>\n",
              "      <td>-4.409300e+04</td>\n",
              "      <td>57.000000</td>\n",
              "      <td>12.000000</td>\n",
              "      <td>0.000000</td>\n",
              "      <td>0.000000</td>\n",
              "      <td>2.000000</td>\n",
              "    </tr>\n",
              "    <tr>\n",
              "      <th>25%</th>\n",
              "      <td>2.118160e+05</td>\n",
              "      <td>4.312500e+05</td>\n",
              "      <td>2.812500e+05</td>\n",
              "      <td>-6.948620e+05</td>\n",
              "      <td>8.157300e+04</td>\n",
              "      <td>1.600000e+06</td>\n",
              "      <td>1.215000e+03</td>\n",
              "      <td>2.261400e+04</td>\n",
              "      <td>9.878400e+04</td>\n",
              "      <td>3.944750e+05</td>\n",
              "      <td>5.278862e+05</td>\n",
              "      <td>2.540180e+05</td>\n",
              "      <td>-3.896218e+05</td>\n",
              "      <td>4.945102e+05</td>\n",
              "      <td>541.250000</td>\n",
              "      <td>22.750000</td>\n",
              "      <td>10.000000</td>\n",
              "      <td>1.000000</td>\n",
              "      <td>249.750000</td>\n",
              "    </tr>\n",
              "    <tr>\n",
              "      <th>50%</th>\n",
              "      <td>2.599960e+05</td>\n",
              "      <td>7.693750e+05</td>\n",
              "      <td>4.420350e+05</td>\n",
              "      <td>-1.597920e+05</td>\n",
              "      <td>2.274490e+05</td>\n",
              "      <td>4.176250e+07</td>\n",
              "      <td>5.238200e+04</td>\n",
              "      <td>4.695000e+04</td>\n",
              "      <td>1.085790e+05</td>\n",
              "      <td>1.101393e+06</td>\n",
              "      <td>1.310814e+06</td>\n",
              "      <td>4.517400e+05</td>\n",
              "      <td>-1.469750e+05</td>\n",
              "      <td>1.102872e+06</td>\n",
              "      <td>1211.000000</td>\n",
              "      <td>41.000000</td>\n",
              "      <td>35.000000</td>\n",
              "      <td>8.000000</td>\n",
              "      <td>740.500000</td>\n",
              "    </tr>\n",
              "    <tr>\n",
              "      <th>75%</th>\n",
              "      <td>3.121170e+05</td>\n",
              "      <td>1.200000e+06</td>\n",
              "      <td>9.386720e+05</td>\n",
              "      <td>-3.834600e+04</td>\n",
              "      <td>1.002672e+06</td>\n",
              "      <td>8.212500e+07</td>\n",
              "      <td>3.620960e+05</td>\n",
              "      <td>7.995250e+04</td>\n",
              "      <td>1.137840e+05</td>\n",
              "      <td>2.093263e+06</td>\n",
              "      <td>2.547724e+06</td>\n",
              "      <td>1.002370e+06</td>\n",
              "      <td>-7.500975e+04</td>\n",
              "      <td>2.949847e+06</td>\n",
              "      <td>2634.750000</td>\n",
              "      <td>145.500000</td>\n",
              "      <td>72.250000</td>\n",
              "      <td>24.750000</td>\n",
              "      <td>1888.250000</td>\n",
              "    </tr>\n",
              "    <tr>\n",
              "      <th>max</th>\n",
              "      <td>2.670423e+07</td>\n",
              "      <td>9.734362e+07</td>\n",
              "      <td>4.852193e+07</td>\n",
              "      <td>-8.330000e+02</td>\n",
              "      <td>3.208340e+07</td>\n",
              "      <td>8.392500e+07</td>\n",
              "      <td>4.266759e+07</td>\n",
              "      <td>5.235198e+06</td>\n",
              "      <td>1.398517e+06</td>\n",
              "      <td>3.098866e+08</td>\n",
              "      <td>3.117640e+08</td>\n",
              "      <td>1.303223e+08</td>\n",
              "      <td>1.545629e+07</td>\n",
              "      <td>4.345095e+08</td>\n",
              "      <td>15149.000000</td>\n",
              "      <td>14368.000000</td>\n",
              "      <td>528.000000</td>\n",
              "      <td>609.000000</td>\n",
              "      <td>5521.000000</td>\n",
              "    </tr>\n",
              "  </tbody>\n",
              "</table>\n",
              "</div>"
            ],
            "text/plain": [
              "             salary  ...  shared_receipt_with_poi\n",
              "count  9.500000e+01  ...                86.000000\n",
              "mean   5.621943e+05  ...              1176.465116\n",
              "std    2.716369e+06  ...              1178.317641\n",
              "min    4.770000e+02  ...                 2.000000\n",
              "25%    2.118160e+05  ...               249.750000\n",
              "50%    2.599960e+05  ...               740.500000\n",
              "75%    3.121170e+05  ...              1888.250000\n",
              "max    2.670423e+07  ...              5521.000000\n",
              "\n",
              "[8 rows x 19 columns]"
            ]
          },
          "metadata": {
            "tags": []
          },
          "execution_count": 5
        }
      ]
    },
    {
      "cell_type": "markdown",
      "metadata": {
        "id": "fyUtRGJ5TBBY"
      },
      "source": [
        "### Some of the maximum values seem unreasonable such the total payments which is $309 million or the to messages at 15,000. Those could be valid values, but they look suspicious on a first pass through the information.\n",
        "### There are numerous NaNs in both the email and financial fields. According to the official pdf documentation for the financial data, values of NaN represent 0. However, for the email data, NaNs are unknown information.\n",
        "### Therefore, we will replace any financial data that is NaN with a 0 but will fill in the NaNs for the email data with the mean of the column grouped by person of interest."
      ]
    },
    {
      "cell_type": "code",
      "metadata": {
        "id": "RLIdwYkJi9pN",
        "colab": {
          "base_uri": "https://localhost:8080/"
        },
        "outputId": "e2727eba-13cf-4c7a-9b74-43be7eb8983c"
      },
      "source": [
        "# Eliminate null values\n",
        "from sklearn.impute import SimpleImputer\n",
        "\n",
        "# Fill in the NaN payment and stock values with zero \n",
        "df[payment_data] = df[payment_data].fillna(0)\n",
        "df[stock_data] = df[stock_data].fillna(0)\n",
        "\n",
        "# Fill in the NaN email data with the mean of column grouped by poi / non_poi\n",
        "imp = SimpleImputer(missing_values=np.nan, strategy = 'mean')\n",
        "\n",
        "df_poi = df[df['poi'] == True];\n",
        "df_nonpoi = df[df['poi'] == False]\n",
        "\n",
        "df_poi.loc[:, email_data] = imp.fit_transform(df_poi.loc[:,email_data]);\n",
        "df_nonpoi.loc[:, email_data] = imp.fit_transform(df_nonpoi.loc[:,email_data]);\n",
        "df = df_poi.append(df_nonpoi)"
      ],
      "execution_count": 6,
      "outputs": [
        {
          "output_type": "stream",
          "text": [
            "/usr/local/lib/python3.7/dist-packages/pandas/core/indexing.py:1734: SettingWithCopyWarning: \n",
            "A value is trying to be set on a copy of a slice from a DataFrame.\n",
            "Try using .loc[row_indexer,col_indexer] = value instead\n",
            "\n",
            "See the caveats in the documentation: https://pandas.pydata.org/pandas-docs/stable/user_guide/indexing.html#returning-a-view-versus-a-copy\n",
            "  isetter(loc, value[:, i].tolist())\n",
            "/usr/local/lib/python3.7/dist-packages/pandas/core/indexing.py:1734: SettingWithCopyWarning: \n",
            "A value is trying to be set on a copy of a slice from a DataFrame.\n",
            "Try using .loc[row_indexer,col_indexer] = value instead\n",
            "\n",
            "See the caveats in the documentation: https://pandas.pydata.org/pandas-docs/stable/user_guide/indexing.html#returning-a-view-versus-a-copy\n",
            "  isetter(loc, value[:, i].tolist())\n"
          ],
          "name": "stderr"
        }
      ]
    },
    {
      "cell_type": "markdown",
      "metadata": {
        "id": "GB_BVxxv0w7A"
      },
      "source": [
        "### A simple way to check for outliers/incorrect data is to add up all of the payment related columns for each person and check if that is equal to the total payment recorded for the individual."
      ]
    },
    {
      "cell_type": "code",
      "metadata": {
        "colab": {
          "base_uri": "https://localhost:8080/",
          "height": 165
        },
        "id": "7mkAxc-nhdBO",
        "outputId": "9dc7e76d-adf0-4541-f621-6595b4816017"
      },
      "source": [
        "errors = (df[df[payment_data[:-1]].sum(axis='columns') != df['total_payments']])\n",
        "errors.head()"
      ],
      "execution_count": 7,
      "outputs": [
        {
          "output_type": "execute_result",
          "data": {
            "text/html": [
              "<div>\n",
              "<style scoped>\n",
              "    .dataframe tbody tr th:only-of-type {\n",
              "        vertical-align: middle;\n",
              "    }\n",
              "\n",
              "    .dataframe tbody tr th {\n",
              "        vertical-align: top;\n",
              "    }\n",
              "\n",
              "    .dataframe thead th {\n",
              "        text-align: right;\n",
              "    }\n",
              "</style>\n",
              "<table border=\"1\" class=\"dataframe\">\n",
              "  <thead>\n",
              "    <tr style=\"text-align: right;\">\n",
              "      <th></th>\n",
              "      <th>poi</th>\n",
              "      <th>salary</th>\n",
              "      <th>bonus</th>\n",
              "      <th>long_term_incentive</th>\n",
              "      <th>deferred_income</th>\n",
              "      <th>deferral_payments</th>\n",
              "      <th>loan_advances</th>\n",
              "      <th>other</th>\n",
              "      <th>expenses</th>\n",
              "      <th>director_fees</th>\n",
              "      <th>total_payments</th>\n",
              "      <th>exercised_stock_options</th>\n",
              "      <th>restricted_stock</th>\n",
              "      <th>restricted_stock_deferred</th>\n",
              "      <th>total_stock_value</th>\n",
              "      <th>to_messages</th>\n",
              "      <th>from_messages</th>\n",
              "      <th>from_poi_to_this_person</th>\n",
              "      <th>from_this_person_to_poi</th>\n",
              "      <th>shared_receipt_with_poi</th>\n",
              "    </tr>\n",
              "  </thead>\n",
              "  <tbody>\n",
              "    <tr>\n",
              "      <th>BELFER ROBERT</th>\n",
              "      <td>False</td>\n",
              "      <td>0.0</td>\n",
              "      <td>0.0</td>\n",
              "      <td>0.0</td>\n",
              "      <td>0.0</td>\n",
              "      <td>-102500.0</td>\n",
              "      <td>0.0</td>\n",
              "      <td>0.0</td>\n",
              "      <td>0.0</td>\n",
              "      <td>3285.0</td>\n",
              "      <td>102500.0</td>\n",
              "      <td>3285.0</td>\n",
              "      <td>0.0</td>\n",
              "      <td>44093.0</td>\n",
              "      <td>-44093.0</td>\n",
              "      <td>2007.111111</td>\n",
              "      <td>668.763889</td>\n",
              "      <td>58.5</td>\n",
              "      <td>36.277778</td>\n",
              "      <td>1058.527778</td>\n",
              "    </tr>\n",
              "    <tr>\n",
              "      <th>BHATNAGAR SANJAY</th>\n",
              "      <td>False</td>\n",
              "      <td>0.0</td>\n",
              "      <td>0.0</td>\n",
              "      <td>0.0</td>\n",
              "      <td>0.0</td>\n",
              "      <td>0.0</td>\n",
              "      <td>0.0</td>\n",
              "      <td>137864.0</td>\n",
              "      <td>0.0</td>\n",
              "      <td>137864.0</td>\n",
              "      <td>15456290.0</td>\n",
              "      <td>2604490.0</td>\n",
              "      <td>-2604490.0</td>\n",
              "      <td>15456290.0</td>\n",
              "      <td>0.0</td>\n",
              "      <td>523.000000</td>\n",
              "      <td>29.000000</td>\n",
              "      <td>0.0</td>\n",
              "      <td>1.000000</td>\n",
              "      <td>463.000000</td>\n",
              "    </tr>\n",
              "  </tbody>\n",
              "</table>\n",
              "</div>"
            ],
            "text/plain": [
              "                    poi  ...  shared_receipt_with_poi\n",
              "BELFER ROBERT     False  ...              1058.527778\n",
              "BHATNAGAR SANJAY  False  ...               463.000000\n",
              "\n",
              "[2 rows x 20 columns]"
            ]
          },
          "metadata": {
            "tags": []
          },
          "execution_count": 7
        }
      ]
    },
    {
      "cell_type": "markdown",
      "metadata": {
        "id": "T_ONtcpD17B0"
      },
      "source": [
        "### There are two individuals for which the sum of their payments does not add up to the recorded total payment. The errors appear to be caused by a misalignment of the columns; for Robert Belfer, the financial data has been shifted one column to the right, and for Sanjay Bhatnagar, the data has been shifted one column to the left."
      ]
    },
    {
      "cell_type": "code",
      "metadata": {
        "colab": {
          "base_uri": "https://localhost:8080/"
        },
        "id": "cW5e2pAU16hC",
        "outputId": "caba5b03-5c56-43f7-d660-37a4bfc80d82"
      },
      "source": [
        "# Retrieve the incorrect data for Belfer\n",
        "belfer_financial = df.loc[['BELFER ROBERT'], (payment_data + stock_data)].squeeze().tolist()\n",
        "# Delete the first element to shift left and add on a 0 to end as indicated in financial data\n",
        "belfer_financial.pop(0)\n",
        "belfer_financial.append(0)\n",
        "# Reinsert corrected data\n",
        "df.loc['BELFER ROBERT', 1:15] = belfer_financial\n",
        "\n",
        "# Retrieve the incorrect data for Bhatnagar\n",
        "bhatnagar_financial = df.loc[['BHATNAGAR SANJAY'], (payment_data + stock_data)].squeeze().tolist()\n",
        "# Delete the last element to shift right and add on a 0 to beginning\n",
        "bhatnagar_financial.pop(-1)\n",
        "bhatnagar_financial = [0] + bhatnagar_financial\n",
        "# Reinsert corrected data\n",
        "df.loc['BHATNAGAR SANJAY', 1:15] = bhatnagar_financial"
      ],
      "execution_count": 8,
      "outputs": [
        {
          "output_type": "stream",
          "text": [
            "/usr/local/lib/python3.7/dist-packages/ipykernel_launcher.py:7: FutureWarning: Slicing a positional slice with .loc is not supported, and will raise TypeError in a future version.  Use .loc with labels or .iloc with positions instead.\n",
            "  import sys\n",
            "/usr/local/lib/python3.7/dist-packages/ipykernel_launcher.py:15: FutureWarning: Slicing a positional slice with .loc is not supported, and will raise TypeError in a future version.  Use .loc with labels or .iloc with positions instead.\n",
            "  from ipykernel import kernelapp as app\n"
          ],
          "name": "stderr"
        }
      ]
    },
    {
      "cell_type": "code",
      "metadata": {
        "colab": {
          "base_uri": "https://localhost:8080/"
        },
        "id": "wrZKRuro26E5",
        "outputId": "60326f02-4579-472b-e6f8-0d9623d293ec"
      },
      "source": [
        "# Check for any more errors with the payment data\n",
        "errors = (df[df[payment_data[:-1]].sum(axis='columns') != df['total_payments']])\n",
        "len(errors)"
      ],
      "execution_count": 9,
      "outputs": [
        {
          "output_type": "execute_result",
          "data": {
            "text/plain": [
              "0"
            ]
          },
          "metadata": {
            "tags": []
          },
          "execution_count": 9
        }
      ]
    },
    {
      "cell_type": "markdown",
      "metadata": {
        "id": "kLXX6Te75yYd"
      },
      "source": [
        "### The official financial PDF states that the total row is what was displaying the suspect maximum numbers in the summary of the dataframe. Likewise, there is a row for 'THE TRAVEL AGENCY IN THE PARK', which according to the documentation, was a company co-owned by Enron's former Chairman's sister and is clearly not an individual that should be included in the dataset."
      ]
    },
    {
      "cell_type": "code",
      "metadata": {
        "id": "wdhGDLci5z6R"
      },
      "source": [
        "# Drop rows\n",
        "df.drop(axis=0, labels=['TOTAL','THE TRAVEL AGENCY IN THE PARK'], inplace=True)"
      ],
      "execution_count": 10,
      "outputs": []
    },
    {
      "cell_type": "markdown",
      "metadata": {
        "id": "fJOniAbW9ZXM"
      },
      "source": [
        "### We now look for outlying data points recorded in the different fields. The official definition of a mild outlier is either below the (first quartile minus 1.5 times the Interquartile Range (IQR)) or above the (third quartile plus 1.5 times the IQR)"
      ]
    },
    {
      "cell_type": "code",
      "metadata": {
        "colab": {
          "base_uri": "https://localhost:8080/"
        },
        "id": "vHJ0-pvC6lnP",
        "outputId": "108c6c61-62e5-4aa1-af4e-a471f443c00d"
      },
      "source": [
        "# Identify outliers\n",
        "IQR = df.quantile(q=0.75) - df.quantile(q=0.25)\n",
        "first_quartile = df.quantile(q=0.25)\n",
        "third_quartile = df.quantile(q=0.75)\n",
        "outliers = df[(df>(third_quartile + 1.5*IQR) ) | (df<(first_quartile - 1.5*IQR) )].count(axis=1)\n",
        "outliers.sort_values(axis=0, ascending=False, inplace=True)\n",
        "outliers.head(15)"
      ],
      "execution_count": 11,
      "outputs": [
        {
          "output_type": "execute_result",
          "data": {
            "text/plain": [
              "LAY KENNETH L         15\n",
              "FREVERT MARK A        12\n",
              "BELDEN TIMOTHY N       9\n",
              "SKILLING JEFFREY K     9\n",
              "BAXTER JOHN C          8\n",
              "LAVORATO JOHN J        8\n",
              "DELAINEY DAVID W       7\n",
              "KEAN STEVEN J          7\n",
              "HAEDICKE MARK E        7\n",
              "WHALLEY LAWRENCE G     7\n",
              "RICE KENNETH D         6\n",
              "KITCHEN LOUISE         6\n",
              "BECK SALLY W           5\n",
              "ALLEN PHILLIP K        5\n",
              "HANNON KEVIN P         5\n",
              "dtype: int64"
            ]
          },
          "metadata": {
            "tags": []
          },
          "execution_count": 11
        }
      ]
    },
    {
      "cell_type": "markdown",
      "metadata": {
        "id": "7KJ-BVHH981n"
      },
      "source": [
        "### An outlier for a person of interest could be a sign of fradulent activity, such as evidence that someone is laundering illicit funds through the company payroll or is paying an accomplice to remain silent about illegal activity.\n",
        "### We decided to remove four people from the dataset. I believe these removals are justified primarily because none of these individuals were persons of interest."
      ]
    },
    {
      "cell_type": "code",
      "metadata": {
        "colab": {
          "base_uri": "https://localhost:8080/"
        },
        "id": "E-AlOLGc96yg",
        "outputId": "59c9861f-7f23-426f-d127-a965b8d7e584"
      },
      "source": [
        "# Remove the outlier individuals\n",
        "df.drop(axis=0, labels=['FREVERT MARK A', 'LAVORATO JOHN J', 'WHALLEY LAWRENCE G', 'BAXTER JOHN C'], inplace=True)\n",
        "\n",
        "# Find the number of poi and non poi now in the data\n",
        "df['poi'].value_counts()"
      ],
      "execution_count": 12,
      "outputs": [
        {
          "output_type": "execute_result",
          "data": {
            "text/plain": [
              "False    122\n",
              "True      18\n",
              "Name: poi, dtype: int64"
            ]
          },
          "metadata": {
            "tags": []
          },
          "execution_count": 12
        }
      ]
    },
    {
      "cell_type": "markdown",
      "metadata": {
        "id": "DpB3vjsQ-9l3"
      },
      "source": [
        "### There are 18 persons of interest, comprising 12.9% of the individuals."
      ]
    },
    {
      "cell_type": "markdown",
      "metadata": {
        "id": "-7wTKF3qAsgL"
      },
      "source": [
        "## **Initial Algorithm Training and Performance Metrics**\n",
        "### The four algorithms we have selected for initial testing are Gaussian Naive Bayes (GaussianNB), DecisionTreeClassifier, Support Vector Classifier (SVC), and KMeans Clustering.\n",
        "### Although accuracy would appear to be the obvious choice for evaluating the quality of a classifier, accuracy can be a crude measure at times, and is not suited for some datasets including the Enron one. For example, if a classifier were to guess that all of the samples in the cleaned dataset were not persons of interest, it would have an accuracy of 87.1%. However, this clearly would not satisfy the objective of this investigation which is to create a classifier that can identify persons of interest. Therefore, different metrics are needed to evaluate the classifiers to to gauge performance. The two selected for use in this project are Precision and Recall. We will also consider F1 Score, as it is a combination of both."
      ]
    },
    {
      "cell_type": "code",
      "metadata": {
        "id": "3id-HqfBi-hU"
      },
      "source": [
        "from sklearn.preprocessing import scale\n",
        "from sklearn.naive_bayes import GaussianNB\n",
        "from sklearn.tree import DecisionTreeClassifier\n",
        "from sklearn.svm import SVC\n",
        "from sklearn.cluster import KMeans\n",
        "from sklearn.ensemble import AdaBoostClassifier\n",
        "import tester\n",
        "\n",
        "# Scale the dataset and send it back to a dictionary\n",
        "scaled_df = df.copy()\n",
        "scaled_df.iloc[:,1:] = scale(scaled_df.iloc[:,1:])\n",
        "my_dataset = scaled_df.to_dict(orient='index')"
      ],
      "execution_count": 13,
      "outputs": []
    },
    {
      "cell_type": "code",
      "metadata": {
        "colab": {
          "base_uri": "https://localhost:8080/"
        },
        "id": "IlZP0EoSng7a",
        "outputId": "f475a7fa-de68-4d15-be32-95d46ac43ea4"
      },
      "source": [
        "# Create and test the Gaussian Naive Bayes Classifier\n",
        "clf = GaussianNB()\n",
        "tester.dump_classifier_and_data(clf, my_dataset, features_list)\n",
        "tester.main();"
      ],
      "execution_count": 14,
      "outputs": [
        {
          "output_type": "stream",
          "text": [
            "\tAccuracy: 0.70714\tPrecision: 0.30909\tRecall: 0.85000\t\tF1: 0.45333\tF2: 0.62963\n",
            "\tTotal predictions:  140\tTrue positives:   17\tFalse positives:   38\tFalse negatives:    3\tTrue negatives:   82\n",
            "\n"
          ],
          "name": "stdout"
        }
      ]
    },
    {
      "cell_type": "code",
      "metadata": {
        "id": "grQLbBOIjYyF",
        "colab": {
          "base_uri": "https://localhost:8080/"
        },
        "outputId": "608e571d-637c-4925-cede-bb74027332c9"
      },
      "source": [
        "# Create and test the Decision Tree Classifier\n",
        "clf = DecisionTreeClassifier()\n",
        "tester.dump_classifier_and_data(clf, my_dataset, features_list)\n",
        "tester.main()"
      ],
      "execution_count": 15,
      "outputs": [
        {
          "output_type": "stream",
          "text": [
            "\tAccuracy: 0.84286\tPrecision: 0.45000\tRecall: 0.45000\t\tF1: 0.45000\tF2: 0.45000\n",
            "\tTotal predictions:  140\tTrue positives:    9\tFalse positives:   11\tFalse negatives:   11\tTrue negatives:  109\n",
            "\n"
          ],
          "name": "stdout"
        }
      ]
    },
    {
      "cell_type": "code",
      "metadata": {
        "colab": {
          "base_uri": "https://localhost:8080/"
        },
        "id": "MVr506_x4jV3",
        "outputId": "bd7f0d26-28ae-41a6-fa6b-950c306d0143"
      },
      "source": [
        "# Create and test the Support Vector Machine Classifier\n",
        "clf = SVC(kernel='linear')\n",
        "tester.dump_classifier_and_data(clf, my_dataset, features_list)\n",
        "tester.main()"
      ],
      "execution_count": 16,
      "outputs": [
        {
          "output_type": "stream",
          "text": [
            "\tAccuracy: 0.86429\tPrecision: 0.57143\tRecall: 0.20000\t\tF1: 0.29630\tF2: 0.22989\n",
            "\tTotal predictions:  140\tTrue positives:    4\tFalse positives:    3\tFalse negatives:   16\tTrue negatives:  117\n",
            "\n"
          ],
          "name": "stdout"
        }
      ]
    },
    {
      "cell_type": "code",
      "metadata": {
        "colab": {
          "base_uri": "https://localhost:8080/"
        },
        "id": "7h_TBrN44t8e",
        "outputId": "86584b10-a268-4cd8-99a9-d711803939fd"
      },
      "source": [
        "# Create and test the K-Means Classifier\n",
        "clf = KMeans(n_clusters=2)\n",
        "tester.dump_classifier_and_data(clf, my_dataset, features_list)\n",
        "tester.main()"
      ],
      "execution_count": 17,
      "outputs": [
        {
          "output_type": "stream",
          "text": [
            "\tAccuracy: 0.70714\tPrecision: 0.11111\tRecall: 0.15000\t\tF1: 0.12766\tF2: 0.14019\n",
            "\tTotal predictions:  140\tTrue positives:    3\tFalse positives:   24\tFalse negatives:   17\tTrue negatives:   96\n",
            "\n"
          ],
          "name": "stdout"
        }
      ]
    },
    {
      "cell_type": "markdown",
      "metadata": {
        "id": "Dqi7hwhi-nwF"
      },
      "source": [
        "### We can see that gaussian naive bayes, decision tree and k-means clustering performed well enough to meet the standards for the project.\n",
        "### Cross Validation: Cross-validation performs multiple splits on the dataset and in each split, forms a different training and testing set. Each iteration, the classifier is fit on a training set and then tested on a testing set.\n",
        "### The tester.py script uses the StratifiedShuffleSplit cross-validation method, and GridSearchCV, which is used to find the optimal number of features and the best parameters, employs cross validation with the StratifiedKFolds cross-validator. In both cases, the dataset is split 10 times into training and testing sets."
      ]
    },
    {
      "cell_type": "markdown",
      "metadata": {
        "id": "UEapkpf-ESfT"
      },
      "source": [
        "## **Feature Engineering**\n",
        "### The next step is to create new features from the existing information that could possibly improve performance. We will also need to carry out feature selection to remove those features that are not useful for predicting a person of interest.\n",
        "### We decided on three new features to create from the email metadata. The first will be the ratio of emails to an individual from a person of interest to all emails addressed to that person, the second is the same but for messages to persons of interest, and the third will be the ratio of email receipts shared with a person of interest to all emails addressed to that individual. The reason for this choice is that a relative number matters more as compared to an absolute number"
      ]
    },
    {
      "cell_type": "code",
      "metadata": {
        "id": "74fFljGo5bjb"
      },
      "source": [
        "# Add the new email features to the dataframe\n",
        "df['to_poi_ratio'] = df['from_poi_to_this_person'] / df['to_messages']\n",
        "df['from_poi_ratio'] = df['from_this_person_to_poi'] / df['from_messages']\n",
        "df['shared_poi_ratio'] = df['shared_receipt_with_poi'] / df['to_messages']\n",
        "features_list.append('to_poi_ratio')\n",
        "features_list.append('from_poi_ratio')\n",
        "features_list.append('shared_poi_ratio')"
      ],
      "execution_count": 18,
      "outputs": []
    },
    {
      "cell_type": "markdown",
      "metadata": {
        "id": "av0GzWr3IUbM"
      },
      "source": [
        "### We think that people recieving large bonuses may be more likely to be persons of interest becuase the bonuses could be a result of fraudulent activity. It would be easier to pass off illegal funds as a bonus rather than a salary raise. The two new features will be the bonus in relation to the salary, and the bonus in relation to total payments."
      ]
    },
    {
      "cell_type": "code",
      "metadata": {
        "id": "nhQi9sDuIdeu"
      },
      "source": [
        "# Add the new financial features to the dataframe\n",
        "df['bonus_to_salary'] = df['bonus'] / df['salary']\n",
        "df['bonus_to_total'] = df['bonus'] / df['total_payments']  \n",
        "features_list.append('bonus_to_salary')\n",
        "features_list.append('bonus_to_total')  "
      ],
      "execution_count": 19,
      "outputs": []
    },
    {
      "cell_type": "markdown",
      "metadata": {
        "id": "X0ONJf41Izj-"
      },
      "source": [
        "### After adding in the features, we will again check for model performance.\n"
      ]
    },
    {
      "cell_type": "code",
      "metadata": {
        "id": "BpkrcZH3I8xl"
      },
      "source": [
        "# Fill any NaN financial data with a 0\n",
        "df.fillna(value= 0, inplace=True)\n",
        "\n",
        "# Scale the dataset and send it back to a dictionary\n",
        "scaled_df = df.copy()\n",
        "scaled_df.iloc[:,1:] = scale(scaled_df.iloc[:,1:])\n",
        "my_dataset = scaled_df.to_dict(orient='index')"
      ],
      "execution_count": 20,
      "outputs": []
    },
    {
      "cell_type": "code",
      "metadata": {
        "colab": {
          "base_uri": "https://localhost:8080/"
        },
        "id": "m4k0RFveJHgz",
        "outputId": "45ac6be2-1bc1-41e8-b41d-a650a46390bb"
      },
      "source": [
        "# Create and test the Gaussian Naive Bayes Classifier\n",
        "clf = GaussianNB()\n",
        "tester.dump_classifier_and_data(clf, my_dataset, features_list)\n",
        "tester.main();"
      ],
      "execution_count": 21,
      "outputs": [
        {
          "output_type": "stream",
          "text": [
            "\tAccuracy: 0.72857\tPrecision: 0.32000\tRecall: 0.80000\t\tF1: 0.45714\tF2: 0.61538\n",
            "\tTotal predictions:  140\tTrue positives:   16\tFalse positives:   34\tFalse negatives:    4\tTrue negatives:   86\n",
            "\n"
          ],
          "name": "stdout"
        }
      ]
    },
    {
      "cell_type": "code",
      "metadata": {
        "colab": {
          "base_uri": "https://localhost:8080/"
        },
        "id": "11Pa2thGJO9q",
        "outputId": "cbc2dd84-1755-408b-e0be-e37961f09b1d"
      },
      "source": [
        "# Create and test the Decision Tree Classifier\n",
        "clf = DecisionTreeClassifier()\n",
        "tester.dump_classifier_and_data(clf, my_dataset, features_list)\n",
        "tester.main()"
      ],
      "execution_count": 22,
      "outputs": [
        {
          "output_type": "stream",
          "text": [
            "\tAccuracy: 0.92143\tPrecision: 0.73684\tRecall: 0.70000\t\tF1: 0.71795\tF2: 0.70707\n",
            "\tTotal predictions:  140\tTrue positives:   14\tFalse positives:    5\tFalse negatives:    6\tTrue negatives:  115\n",
            "\n"
          ],
          "name": "stdout"
        }
      ]
    },
    {
      "cell_type": "code",
      "metadata": {
        "colab": {
          "base_uri": "https://localhost:8080/"
        },
        "id": "B4-F9EpnJSW7",
        "outputId": "d48ca12f-b3d9-4e08-a7fa-6d23d3874e40"
      },
      "source": [
        "# Create and test the Support Vector Machine Classifier\n",
        "clf = SVC(kernel='linear')\n",
        "tester.dump_classifier_and_data(clf, my_dataset, features_list)\n",
        "tester.main()"
      ],
      "execution_count": 23,
      "outputs": [
        {
          "output_type": "stream",
          "text": [
            "\tAccuracy: 0.83571\tPrecision: 0.33333\tRecall: 0.15000\t\tF1: 0.20690\tF2: 0.16854\n",
            "\tTotal predictions:  140\tTrue positives:    3\tFalse positives:    6\tFalse negatives:   17\tTrue negatives:  114\n",
            "\n"
          ],
          "name": "stdout"
        }
      ]
    },
    {
      "cell_type": "code",
      "metadata": {
        "colab": {
          "base_uri": "https://localhost:8080/"
        },
        "id": "2wJYIZyRJTJk",
        "outputId": "c4f18d48-43c9-4a22-ac58-4d3e580fa7ba"
      },
      "source": [
        "# Create and test the K-Means Classifier\n",
        "clf = KMeans(n_clusters=2)\n",
        "tester.dump_classifier_and_data(clf, my_dataset, features_list)\n",
        "tester.main()"
      ],
      "execution_count": 24,
      "outputs": [
        {
          "output_type": "stream",
          "text": [
            "\tAccuracy: 0.64286\tPrecision: 0.08333\tRecall: 0.15000\t\tF1: 0.10714\tF2: 0.12931\n",
            "\tTotal predictions:  140\tTrue positives:    3\tFalse positives:   33\tFalse negatives:   17\tTrue negatives:   87\n",
            "\n"
          ],
          "name": "stdout"
        }
      ]
    },
    {
      "cell_type": "markdown",
      "metadata": {
        "id": "MuWvRA9VJyGZ"
      },
      "source": [
        "### The F1 score for the decision tree is the highest followed by the Gaussian Naive Bayes Classifier. At this point, neither the SVC with the linear kernel nor the KMeans clustering perform well. We will drop the latter two algorithms and I will also include the AdaBoost Classifier because to experiment with tunable parameters."
      ]
    },
    {
      "cell_type": "markdown",
      "metadata": {
        "id": "Un6M_aMYKmkl"
      },
      "source": [
        "## **Feature Visualization**"
      ]
    },
    {
      "cell_type": "markdown",
      "metadata": {
        "id": "Omivb9_l5pYL"
      },
      "source": [
        "### The following is a simple scatterplot of the email ratio features we created and the bonus ratios we created."
      ]
    },
    {
      "cell_type": "code",
      "metadata": {
        "id": "4Y22guH8KfwP",
        "colab": {
          "base_uri": "https://localhost:8080/",
          "height": 480
        },
        "outputId": "400eb6a7-a92e-4636-a3f6-c9a27d0f8788"
      },
      "source": [
        "import matplotlib.pyplot as plt\n",
        "import matplotlib\n",
        "%matplotlib inline\n",
        "\n",
        "poi_df = df[df['poi']==True]\n",
        "nonpoi_df = df[df['poi']==False]\n",
        "\n",
        "plt.rcParams.update({'font.size':18})\n",
        "fig = plt.figure(figsize=(14,7))\n",
        "ax1 = fig.add_subplot(121)\n",
        "plt.scatter(x=poi_df['from_poi_ratio'], y = poi_df['to_poi_ratio'], color = 'red', marker='*')\n",
        "plt.scatter(x=nonpoi_df['from_poi_ratio'], y = nonpoi_df['to_poi_ratio'], color = 'c')\n",
        "plt.xlabel('From Poi Ratio'); plt.ylabel('To Poi Ratio'); plt.title('Email Ratios'); \n",
        "plt.legend(['poi', 'nonpoi'], prop= {'size': 16})\n",
        "\n",
        "ax2 = fig.add_subplot(122)\n",
        "plt.scatter(x=poi_df['bonus_to_salary'], y = poi_df['bonus_to_total'], color = 'red', marker='*')\n",
        "plt.scatter(x=nonpoi_df['bonus_to_salary'], y = nonpoi_df['bonus_to_total'], color = 'c')\n",
        "plt.xlabel('Bonus to Salary'); plt.ylabel('Bonus to Total'); plt.title('Bonus Ratios');\n",
        "plt.legend(['poi', 'nonpoi'], prop= {'size': 16});"
      ],
      "execution_count": 25,
      "outputs": [
        {
          "output_type": "display_data",
          "data": {
            "image/png": "[encoded data removed]",
            "text/plain": [
              "<Figure size 1008x504 with 2 Axes>"
            ]
          },
          "metadata": {
            "tags": [],
            "needs_background": "light"
          }
        }
      ]
    },
    {
      "cell_type": "markdown",
      "metadata": {
        "id": "FRBQWKgn51h5"
      },
      "source": [
        "### In both plots, the non persons of interest are clustered to the bottom left, but there is not a clear trend among the persons of interest. "
      ]
    },
    {
      "cell_type": "markdown",
      "metadata": {
        "id": "zdfBWLb-7iIl"
      },
      "source": [
        "### The plot below is a scatter matrix showing all the relationships between four selected features: ‘bonus’, ‘total_payments’, ‘to_poi_ratio’, and ‘from_poi_ratio’."
      ]
    },
    {
      "cell_type": "code",
      "metadata": {
        "colab": {
          "base_uri": "https://localhost:8080/",
          "height": 669
        },
        "id": "frGZIkGJ7hPm",
        "outputId": "3283a7b6-34ad-4d5b-d796-31c09e665262"
      },
      "source": [
        "from pandas.plotting import scatter_matrix\n",
        "features_to_plot = ['bonus',  'total_payments', 'to_poi_ratio', 'from_poi_ratio']\n",
        "scatter_matrix(df[features_to_plot], figsize=(16,10), c=df['poi']);\n",
        "plt.suptitle('Scatter Matrix');"
      ],
      "execution_count": 26,
      "outputs": [
        {
          "output_type": "display_data",
          "data": {
            "image/png": "[encoded data removed]",
            "text/plain": [
              "<Figure size 1152x720 with 16 Axes>"
            ]
          },
          "metadata": {
            "tags": [],
            "needs_background": "light"
          }
        }
      ]
    },
    {
      "cell_type": "markdown",
      "metadata": {
        "id": "zDnIV7Vs78rt"
      },
      "source": [
        "### Looking at the bonus vs from_poi_ratio, the persons of interest tend to be further to the right and higher than non persons of interest. This indicates that persons of interest tend to recieve larger bonuses and they send more emails to other persons of interest."
      ]
    },
    {
      "cell_type": "markdown",
      "metadata": {
        "id": "C3oQqfOC8sUf"
      },
      "source": [
        "## **Feature Selection**\n",
        "### First, we will manually look at the feature importances for both classifiers to get a sense of which features are most important."
      ]
    },
    {
      "cell_type": "code",
      "metadata": {
        "colab": {
          "base_uri": "https://localhost:8080/"
        },
        "id": "rWm2yFkP8p0L",
        "outputId": "ad13f604-9d01-4add-8f33-3fdd52c95eea"
      },
      "source": [
        "clf_tree = DecisionTreeClassifier()\n",
        "clf_tree = tester.test_classifier(clf_tree, my_dataset, features_list)"
      ],
      "execution_count": 27,
      "outputs": [
        {
          "output_type": "stream",
          "text": [
            "\tAccuracy: 0.90714\tPrecision: 0.68421\tRecall: 0.65000\t\tF1: 0.66667\tF2: 0.65657\n",
            "\tTotal predictions:  140\tTrue positives:   13\tFalse positives:    6\tFalse negatives:    7\tTrue negatives:  114\n",
            "\n"
          ],
          "name": "stdout"
        }
      ]
    },
    {
      "cell_type": "code",
      "metadata": {
        "colab": {
          "base_uri": "https://localhost:8080/"
        },
        "id": "wVzclkKq9t_B",
        "outputId": "e9cc6277-f78f-4916-c02b-b081ebacdc71"
      },
      "source": [
        "# Get the feature importances of the DecisionTree Classifier\n",
        "tree_feature_importances = (clf_tree.feature_importances_)\n",
        "tree_features = zip(tree_feature_importances, features_list[1:])\n",
        "tree_features = sorted(tree_features, key= lambda x:x[0], reverse=True)\n",
        "\n",
        "# Display the feature names and importance values\n",
        "print('Tree Feature Importances:\\n')\n",
        "for i in range(10):\n",
        "    print('{} : {:.4f}'.format(tree_features[i][1], tree_features[i][0]))"
      ],
      "execution_count": 28,
      "outputs": [
        {
          "output_type": "stream",
          "text": [
            "Tree Feature Importances:\n",
            "\n",
            "from_poi_ratio : 0.3782\n",
            "shared_receipt_with_poi : 0.2485\n",
            "expenses : 0.2397\n",
            "from_poi_to_this_person : 0.0671\n",
            "shared_poi_ratio : 0.0665\n",
            "salary : 0.0000\n",
            "bonus : 0.0000\n",
            "long_term_incentive : 0.0000\n",
            "deferred_income : 0.0000\n",
            "deferral_payments : 0.0000\n"
          ],
          "name": "stdout"
        }
      ]
    },
    {
      "cell_type": "code",
      "metadata": {
        "colab": {
          "base_uri": "https://localhost:8080/"
        },
        "id": "UkyNfWBw9zmV",
        "outputId": "e30a2104-bb7c-4de8-e657-5fde48693569"
      },
      "source": [
        "clf_ada = AdaBoostClassifier()\n",
        "clf_ada = tester.test_classifier(clf_ada, my_dataset, features_list)"
      ],
      "execution_count": 29,
      "outputs": [
        {
          "output_type": "stream",
          "text": [
            "\tAccuracy: 0.94286\tPrecision: 0.83333\tRecall: 0.75000\t\tF1: 0.78947\tF2: 0.76531\n",
            "\tTotal predictions:  140\tTrue positives:   15\tFalse positives:    3\tFalse negatives:    5\tTrue negatives:  117\n",
            "\n"
          ],
          "name": "stdout"
        }
      ]
    },
    {
      "cell_type": "code",
      "metadata": {
        "colab": {
          "base_uri": "https://localhost:8080/"
        },
        "id": "nQcEbG4l92hx",
        "outputId": "475ff1ab-1c6d-4cde-d338-d2b7a6cdb4cb"
      },
      "source": [
        "# Get the feature importances for the AdaBoost Classifier\n",
        "ada_feature_importances = clf_ada.feature_importances_\n",
        "ada_features = zip(ada_feature_importances, features_list[1:])\n",
        "\n",
        "# Display the feature names and importance values\n",
        "print('Ada Boost Feature Importances:\\n')\n",
        "ada_features = sorted(ada_features, key=lambda x:x[0], reverse=True)\n",
        "for i in range(10):\n",
        "    print('{} : {:.4f}'.format(ada_features[i][1], ada_features[i][0]))"
      ],
      "execution_count": 30,
      "outputs": [
        {
          "output_type": "stream",
          "text": [
            "Ada Boost Feature Importances:\n",
            "\n",
            "shared_receipt_with_poi : 0.1200\n",
            "exercised_stock_options : 0.1000\n",
            "from_this_person_to_poi : 0.1000\n",
            "to_poi_ratio : 0.1000\n",
            "deferred_income : 0.0800\n",
            "from_messages : 0.0800\n",
            "from_poi_ratio : 0.0800\n",
            "other : 0.0600\n",
            "total_stock_value : 0.0600\n",
            "shared_poi_ratio : 0.0400\n"
          ],
          "name": "stdout"
        }
      ]
    },
    {
      "cell_type": "markdown",
      "metadata": {
        "id": "37liET7a-KJn"
      },
      "source": [
        "### It is interesting to compare the feature importances for the DecisionTree and the AdaBoost classifiers. The top 10 features are not in close agreement even though both classifiers achieve a respectable F1 Score greater than 0.5. However, rather than manually selecting the features to keep, we will use GridSearchCV with SelectKBest to find the optimal number of features for the classifiers. GridSearchCV runs through a parameter grid and tests all the different configurations provided to it. It returns the parameters that yield the maximum score. We will use a scoring parameter of F1 because that is what we would like to maximize, and a cross-validation with 10 splits to ensure that we are not overfitting the algorithm to the training data."
      ]
    },
    {
      "cell_type": "code",
      "metadata": {
        "id": "EfpG-agu-arg"
      },
      "source": [
        "from feature_format import featureFormat, targetFeatureSplit\n",
        "from sklearn.pipeline import Pipeline\n",
        "from sklearn.feature_selection import SelectKBest\n",
        "\n",
        "data_dict = featureFormat(my_dataset, features_list)\n",
        "labels, features = targetFeatureSplit(data_dict)"
      ],
      "execution_count": 31,
      "outputs": []
    },
    {
      "cell_type": "code",
      "metadata": {
        "id": "PE7KWPaY-fap"
      },
      "source": [
        "from sklearn.model_selection import GridSearchCV\n",
        "\n",
        "n_features = np.arange(1, len(features_list))\n",
        "\n",
        "# Create a pipeline with feature selection and classification\n",
        "pipe = Pipeline([\n",
        "    ('select_features', SelectKBest()),\n",
        "    ('classify', DecisionTreeClassifier())\n",
        "])\n",
        "\n",
        "param_grid = [\n",
        "    {\n",
        "        'select_features__k': n_features\n",
        "    }\n",
        "]\n",
        "\n",
        "# Use GridSearchCV to automate the process of finding the optimal number of features\n",
        "tree_clf= GridSearchCV(pipe, param_grid=param_grid, scoring='f1', cv = 10)\n",
        "tree_clf.fit(features, labels);"
      ],
      "execution_count": 32,
      "outputs": []
    },
    {
      "cell_type": "code",
      "metadata": {
        "colab": {
          "base_uri": "https://localhost:8080/"
        },
        "id": "A_evm9cp-kzx",
        "outputId": "7341be01-49ce-494f-f412-f20f9b8f3f26"
      },
      "source": [
        "tree_clf.best_params_"
      ],
      "execution_count": 33,
      "outputs": [
        {
          "output_type": "execute_result",
          "data": {
            "text/plain": [
              "{'select_features__k': 20}"
            ]
          },
          "metadata": {
            "tags": []
          },
          "execution_count": 33
        }
      ]
    },
    {
      "cell_type": "code",
      "metadata": {
        "colab": {
          "base_uri": "https://localhost:8080/"
        },
        "id": "LWxdsI0o-uwM",
        "outputId": "53bf65c9-aae5-4dc2-c63a-87f964980ead"
      },
      "source": [
        "tree_selection = SelectKBest(k=20)\n",
        "tree_selection.fit_transform(features, labels)\n",
        "\n",
        "tree_scores = tree_selection.scores_\n",
        "tree_features = zip(tree_scores, features_list[1:])\n",
        "tree_features = sorted(tree_features, key= lambda x:x[0], reverse=True)\n",
        "\n",
        "print('Tree Feature F-statistics:\\n')\n",
        "for i in range(20):\n",
        "    print('{} : {:.4f}'.format(tree_features[i][1], tree_features[i][0]))"
      ],
      "execution_count": 34,
      "outputs": [
        {
          "output_type": "stream",
          "text": [
            "Tree Feature F-statistics:\n",
            "\n",
            "bonus : 36.2022\n",
            "from_poi_ratio : 25.8246\n",
            "salary : 25.4609\n",
            "total_stock_value : 24.8372\n",
            "exercised_stock_options : 24.0888\n",
            "bonus_to_total : 20.8908\n",
            "deferred_income : 17.0963\n",
            "bonus_to_salary : 17.0251\n",
            "shared_poi_ratio : 16.1635\n",
            "shared_receipt_with_poi : 14.7385\n",
            "from_poi_to_this_person : 12.9213\n",
            "long_term_incentive : 12.7397\n",
            "total_payments : 10.2104\n",
            "restricted_stock : 10.0832\n",
            "other : 7.9157\n",
            "loan_advances : 7.0635\n",
            "expenses : 5.7008\n",
            "from_this_person_to_poi : 3.4099\n",
            "to_poi_ratio : 2.8564\n"
          ],
          "name": "stdout"
        }
      ]
    },
    {
      "cell_type": "markdown",
      "metadata": {
        "id": "B65D5RInAuqp"
      },
      "source": [
        "### According to the grid search performed with SelectKBest with the number of features ranging from 1 to 24 (the number of features minus one), the optimal number of features for the decision tree classifier is 19."
      ]
    },
    {
      "cell_type": "code",
      "metadata": {
        "colab": {
          "base_uri": "https://localhost:8080/"
        },
        "id": "lhvQm0lvAg6z",
        "outputId": "9ca63eb4-91dd-4d55-fa38-6e9f7ccdb049"
      },
      "source": [
        "tree_clf = Pipeline([\n",
        "    ('select_features', SelectKBest(k=20)),\n",
        "    ('classify', DecisionTreeClassifier()),\n",
        "])\n",
        "\n",
        "tester.dump_classifier_and_data(tree_clf, my_dataset, features_list)\n",
        "tester.main()"
      ],
      "execution_count": 35,
      "outputs": [
        {
          "output_type": "stream",
          "text": [
            "\tAccuracy: 0.92143\tPrecision: 0.71429\tRecall: 0.75000\t\tF1: 0.73171\tF2: 0.74257\n",
            "\tTotal predictions:  140\tTrue positives:   15\tFalse positives:    6\tFalse negatives:    5\tTrue negatives:  114\n",
            "\n"
          ],
          "name": "stdout"
        }
      ]
    },
    {
      "cell_type": "markdown",
      "metadata": {
        "id": "mxbNMVpuBGfm"
      },
      "source": [
        "### A similar procedure with GridSearchCV and SelectKBest will be carried out to determine the optimal number of features to use with the AdaBoostClassifier."
      ]
    },
    {
      "cell_type": "code",
      "metadata": {
        "id": "hbkBlscgA90S"
      },
      "source": [
        "n_features = np.arange(1, len(features_list))\n",
        "# Create a pipeline of feature selection and classifier\n",
        "pipe = Pipeline([\n",
        "    ('select_features', SelectKBest()),\n",
        "    ('classify', AdaBoostClassifier())\n",
        "])\n",
        "\n",
        "param_grid = [\n",
        "    {\n",
        "        'select_features__k': n_features\n",
        "    }\n",
        "]\n",
        "\n",
        "# Use GridSearchCV to automate the process of finding the optimal number of features\n",
        "ada_clf= GridSearchCV(pipe, param_grid=param_grid, scoring='f1', cv =10)\n",
        "ada_clf.fit(features, labels)"
      ],
      "execution_count": null,
      "outputs": []
    },
    {
      "cell_type": "code",
      "metadata": {
        "colab": {
          "base_uri": "https://localhost:8080/"
        },
        "id": "cbPARqiKBLln",
        "outputId": "962fd53d-5f3c-4808-b99d-f3ff4024981d"
      },
      "source": [
        "ada_clf.best_params_"
      ],
      "execution_count": 37,
      "outputs": [
        {
          "output_type": "execute_result",
          "data": {
            "text/plain": [
              "{'select_features__k': 20}"
            ]
          },
          "metadata": {
            "tags": []
          },
          "execution_count": 37
        }
      ]
    },
    {
      "cell_type": "code",
      "metadata": {
        "colab": {
          "base_uri": "https://localhost:8080/"
        },
        "id": "75kP-J16BQYd",
        "outputId": "d3a70e31-1e5e-45f3-fc61-45d14d397bfa"
      },
      "source": [
        "ada_selection = SelectKBest(k=20)\n",
        "ada_selection.fit_transform(features, labels)\n",
        "\n",
        "ada_scores = ada_selection.scores_\n",
        "ada_features = zip(ada_scores, features_list[1:])\n",
        "ada_features = sorted(ada_features, key= lambda x:x[0], reverse=True)\n",
        "\n",
        "print('AdaBoost Features F-statistics:\\n')\n",
        "for i in range(20):\n",
        "    print('{} : {:.4f}'.format(ada_features[i][1], ada_features[i][0]))"
      ],
      "execution_count": 38,
      "outputs": [
        {
          "output_type": "stream",
          "text": [
            "AdaBoost Features F-statistics:\n",
            "\n",
            "bonus : 36.2022\n",
            "from_poi_ratio : 25.8246\n",
            "salary : 25.4609\n",
            "total_stock_value : 24.8372\n",
            "exercised_stock_options : 24.0888\n",
            "bonus_to_total : 20.8908\n",
            "deferred_income : 17.0963\n",
            "bonus_to_salary : 17.0251\n",
            "shared_poi_ratio : 16.1635\n",
            "shared_receipt_with_poi : 14.7385\n",
            "from_poi_to_this_person : 12.9213\n",
            "long_term_incentive : 12.7397\n",
            "total_payments : 10.2104\n",
            "restricted_stock : 10.0832\n",
            "other : 7.9157\n",
            "loan_advances : 7.0635\n",
            "expenses : 5.7008\n",
            "from_this_person_to_poi : 3.4099\n",
            "to_poi_ratio : 2.8564\n",
            "director_fees : 2.1897\n"
          ],
          "name": "stdout"
        }
      ]
    },
    {
      "cell_type": "code",
      "metadata": {
        "colab": {
          "base_uri": "https://localhost:8080/"
        },
        "id": "t33c7vCwBbCA",
        "outputId": "23d83582-884b-485c-ae11-8fc9fc2982e3"
      },
      "source": [
        "tester.dump_classifier_and_data(ada_clf, my_dataset, features_list)\n",
        "tester.main()"
      ],
      "execution_count": 39,
      "outputs": [
        {
          "output_type": "stream",
          "text": [
            "\tAccuracy: 0.92857\tPrecision: 0.77778\tRecall: 0.70000\t\tF1: 0.73684\tF2: 0.71429\n",
            "\tTotal predictions:  140\tTrue positives:   14\tFalse positives:    4\tFalse negatives:    6\tTrue negatives:  116\n",
            "\n"
          ],
          "name": "stdout"
        }
      ]
    },
    {
      "cell_type": "markdown",
      "metadata": {
        "id": "ukUqu9CZBiXw"
      },
      "source": [
        "## **Hyperarameter Tuning**\n",
        "### Parameter tuning is the process of optimizing the settings of a machine learning algorithm to achieve maximum performance on a given dataset. \n",
        "### The proces of parameter tuning can be automated by another algorithm such as GridSearchCV. A parameter grid is passed to GridSearchCV that consists of a number of combinations of parameters to test with an algorithm, and the search returns the parameters that maximize performance."
      ]
    },
    {
      "cell_type": "code",
      "metadata": {
        "id": "Ofp18RzPBgtb"
      },
      "source": [
        "# Create a pipeline with feature selection and classifier\n",
        "tree_pipe = Pipeline([\n",
        "    ('select_features', SelectKBest(k=19)),\n",
        "    ('classify', DecisionTreeClassifier()),\n",
        "])\n",
        "\n",
        "# Define the configuration of parameters to test with the \n",
        "# Decision Tree Classifier\n",
        "param_grid = dict(classify__criterion = ['gini', 'entropy'] , \n",
        "                  classify__min_samples_split = [2, 4, 6, 8, 10, 20],\n",
        "                  classify__max_depth = [None, 5, 10, 15, 20],\n",
        "                  classify__max_features = [None, 'sqrt', 'log2', 'auto'])\n",
        "\n",
        "# Use GridSearchCV to find the optimal hyperparameters for the classifier\n",
        "tree_clf = GridSearchCV(tree_pipe, param_grid = param_grid, scoring='f1', cv=10)\n",
        "tree_clf.fit(features, labels)"
      ],
      "execution_count": null,
      "outputs": []
    },
    {
      "cell_type": "code",
      "metadata": {
        "colab": {
          "base_uri": "https://localhost:8080/"
        },
        "id": "ysgN1DK5CmSD",
        "outputId": "73889135-61c3-46e8-83e4-2ddba9413dee"
      },
      "source": [
        "# Get the best algorithm hyperparameters for the Decision Tree\n",
        "tree_clf.best_params_"
      ],
      "execution_count": 41,
      "outputs": [
        {
          "output_type": "execute_result",
          "data": {
            "text/plain": [
              "{'classify__criterion': 'entropy',\n",
              " 'classify__max_depth': 5,\n",
              " 'classify__max_features': None,\n",
              " 'classify__min_samples_split': 20}"
            ]
          },
          "metadata": {
            "tags": []
          },
          "execution_count": 41
        }
      ]
    },
    {
      "cell_type": "code",
      "metadata": {
        "colab": {
          "base_uri": "https://localhost:8080/"
        },
        "id": "1PCXwRTFCqs8",
        "outputId": "26c8cd0a-0275-47dc-848c-f1e359db80d6"
      },
      "source": [
        "# Create the classifier with the optimal hyperparameters as found by GridSearchCV\n",
        "tree_clf = Pipeline([\n",
        "    ('select_features', SelectKBest(k=19)),\n",
        "    ('classify', DecisionTreeClassifier(criterion='entropy', max_depth=5, max_features=None, min_samples_split=20))\n",
        "])\n",
        "\n",
        "# Test the classifier using tester.py\n",
        "tester.dump_classifier_and_data(tree_clf, my_dataset, features_list)\n",
        "tester.main()"
      ],
      "execution_count": 42,
      "outputs": [
        {
          "output_type": "stream",
          "text": [
            "\tAccuracy: 0.97143\tPrecision: 0.86364\tRecall: 0.95000\t\tF1: 0.90476\tF2: 0.93137\n",
            "\tTotal predictions:  140\tTrue positives:   19\tFalse positives:    3\tFalse negatives:    1\tTrue negatives:  117\n",
            "\n"
          ],
          "name": "stdout"
        }
      ]
    },
    {
      "cell_type": "code",
      "metadata": {
        "id": "BwWqGAefCyJk"
      },
      "source": [
        "from sklearn.ensemble import RandomForestClassifier\n",
        "\n",
        "# Create the pipeline with feature selection and AdaBoostClassifier\n",
        "ada_pipe = Pipeline([('select_features', SelectKBest(k=20)),\n",
        "                     ('classify', AdaBoostClassifier())\n",
        "                    ])\n",
        "\n",
        "# Define the parameter configurations to test with GridSearchCV\n",
        "param_grid = dict(classify__base_estimator=[DecisionTreeClassifier(), RandomForestClassifier(), GaussianNB()],\n",
        "                  classify__n_estimators = [30, 50, 70, 120],\n",
        "                  classify__learning_rate = [0.5, 1, 1.5, 2, 4])\n",
        "\n",
        "# Use GridSearchCV to automate the process of finding the optimal parameters\n",
        "ada_clf = GridSearchCV(ada_pipe, param_grid=param_grid, scoring='f1', cv=10)\n",
        "ada_clf.fit(features, labels)"
      ],
      "execution_count": null,
      "outputs": []
    },
    {
      "cell_type": "code",
      "metadata": {
        "colab": {
          "base_uri": "https://localhost:8080/"
        },
        "id": "fF3JUZCqDYhe",
        "outputId": "5dda7a71-14f0-4bb4-e7a3-b163ae07bd74"
      },
      "source": [
        "# Display the best parameters for the AdaBoostClassifier\n",
        "ada_clf.best_params_"
      ],
      "execution_count": 44,
      "outputs": [
        {
          "output_type": "execute_result",
          "data": {
            "text/plain": [
              "{'classify__base_estimator': DecisionTreeClassifier(ccp_alpha=0.0, class_weight=None, criterion='gini',\n",
              "                        max_depth=None, max_features=None, max_leaf_nodes=None,\n",
              "                        min_impurity_decrease=0.0, min_impurity_split=None,\n",
              "                        min_samples_leaf=1, min_samples_split=2,\n",
              "                        min_weight_fraction_leaf=0.0, presort='deprecated',\n",
              "                        random_state=None, splitter='best'),\n",
              " 'classify__learning_rate': 1,\n",
              " 'classify__n_estimators': 30}"
            ]
          },
          "metadata": {
            "tags": []
          },
          "execution_count": 44
        }
      ]
    },
    {
      "cell_type": "code",
      "metadata": {
        "colab": {
          "base_uri": "https://localhost:8080/"
        },
        "id": "uVbCkNf2Dgpb",
        "outputId": "c921fb0f-c0e6-4dee-cff5-2f42da1d76e4"
      },
      "source": [
        "# Create the classifier with the optimal hyperparameters as found by GridSearchCV\n",
        "ada_clf = Pipeline([('select_features', SelectKBest(k=20)),\n",
        "                   ('classify', AdaBoostClassifier(base_estimator=DecisionTreeClassifier(), learning_rate=1, n_estimators=30))\n",
        "                   ])\n",
        "\n",
        "# Test the classifier using tester.py\n",
        "tester.dump_classifier_and_data(ada_clf, my_dataset, features_list)\n",
        "tester.main()"
      ],
      "execution_count": 45,
      "outputs": [
        {
          "output_type": "stream",
          "text": [
            "\tAccuracy: 0.91429\tPrecision: 0.70000\tRecall: 0.70000\t\tF1: 0.70000\tF2: 0.70000\n",
            "\tTotal predictions:  140\tTrue positives:   14\tFalse positives:    6\tFalse negatives:    6\tTrue negatives:  114\n",
            "\n"
          ],
          "name": "stdout"
        }
      ]
    },
    {
      "cell_type": "markdown",
      "metadata": {
        "id": "9HkVkxNmD7q7"
      },
      "source": [
        "## **Conclusion**\n",
        "### Based on these results, the final algorithm we chose was the DecisionTreeClassifier. My final model is composed of the Decision Tree algorithm, the 19 features from SelectKBest feature selection, and the model hyperparameters defined above."
      ]
    }
  ]
}